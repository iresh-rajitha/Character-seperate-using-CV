{
  "nbformat": 4,
  "nbformat_minor": 0,
  "metadata": {
    "colab": {
      "provenance": [],
      "authorship_tag": "ABX9TyNElWIMPjm0jgh9BV1GSgsa",
      "include_colab_link": true
    },
    "kernelspec": {
      "name": "python3",
      "display_name": "Python 3"
    },
    "language_info": {
      "name": "python"
    }
  },
  "cells": [
    {
      "cell_type": "markdown",
      "metadata": {
        "id": "view-in-github",
        "colab_type": "text"
      },
      "source": [
        "<a href=\"https://colab.research.google.com/github/iresh-rajitha/Character-seperate-using-CV/blob/main/Font_generate_using_TTF.ipynb\" target=\"_parent\"><img src=\"https://colab.research.google.com/assets/colab-badge.svg\" alt=\"Open In Colab\"/></a>"
      ]
    },
    {
      "cell_type": "code",
      "source": [
        "def convert_to_legacy_font(unicode_chars):\n",
        "    conversion_dict = {\n",
        "    \"ද්‍ර\": \"ø\", \",\": \"￦\", \"\\'\": \"z\", \"\\(\": \"^\", \"\\)\": \"&\", \"%\": \"]\", \"\\/\": \"$\", \"–\": \"-\", \"\\?\": \"@\", \"!\": \"æ\", \"\\=\": \"}\", \"\\.\": \"'\", \"\\+\": \"¬\", \"\\:\": \"(\", \"\\÷\": \"­\", \"\\;\": \"¦\", \"ත්‍රෛ\": \"ff;%\", \"ශෛ\": \"ffY\", \"චෛ\": \"ffp\", \"ජෛ\": \"ffc\", \"කෛ\": \"ffl\", \"මෛ\": \"ffu\", \"පෛ\": \"ffm\", \"දෛ\": \"ffo\", \"තෛ\": \"ff;\", \"නෛ\": \"ffk\", \"ධෛ\": \"ffO\", \"වෛ\": \"ffj\", \"ප්‍රෞ\": \"fm%!\", \"ෂ්‍යෝ\": \"fIHda\", \"ඡ්‍යෝ\": \"fPHda\", \"ඪ්‍යෝ\": \"fVHda\", \"ඝ්‍යෝ\": \"f>Hda\", \"ඛ්‍යෝ\": \"fLHda\", \"ළ්‍යෝ\": \"f<Hda\", \"ඵ්‍යෝ\": \"fMHda\", \"ඨ්‍යෝ\": \"fGHda\", \"ශ්‍යෝ\": \"fYHda\", \"ක්‍ෂ්‍යෝ\": \"fÌHda\", \"බ්‍යෝ\": \"fnHda\", \"ච්‍යෝ\": \"fpHda\", \"ඩ්‍යෝ\": \"fâHda\", \"ෆ්‍යෝ\": \"f*Hda\", \"ග්‍යෝ\": \"f.Hda\", \"ජ්‍යෝ\": \"fcHda\", \"ක්‍යෝ\": \"flHda\", \"ල්‍යෝ\": \"f,Hda\", \"ම්‍යෝ\": \"fuHda\", \"න්‍යෝ\": \"fkHda\", \"ප්‍යෝ\": \"fmHda\", \"ද්‍යෝ\": \"foHda\", \"ස්‍යෝ\": \"fiHda\", \"ට්‍යෝ\": \"fgHda\", \"ව්‍යෝ\": \"fjHda\", \"ත්‍යෝ\": \"f;Hda\", \"භ්‍යෝ\": \"fNHda\", \"ධ්‍යෝ\": \"fOHda\", \"ථ්‍යෝ\": \"f:Hda\", \"ෂ්‍යො\": \"fIHd\", \"ශ්‍යො\": \"fYHd\", \"ඛ්‍යො\": \"fLHd\", \"ක්‍ෂ්‍යො\": \"fÌHd\", \"බ්‍යො\": \"fnHd\", \"ව්‍යො\": \"fjHd\", \"ඩ්‍යො\": \"fvHd\", \"ෆ්‍යො\": \"f*Hd\", \"ග්‍යො\": \"f.Hd\", \"ජ්‍යො\": \"fcHd\", \"ක්‍යො\": \"flHd\", \"ම්‍යො\": \"fuHd\", \"ප්‍යො\": \"fmHd\", \"ද්‍යො\": \"foHd\", \"ස්‍යො\": \"fiHd\", \"ට්‍යො\": \"fgHd\", \"ව්‍යො\": \"fjHd\", \"ත්‍යො\": \"f;Hd\", \"භ්‍යො\": \"fNHd\", \"ධ්‍යො\": \"fOHd\", \"ථ්‍යො\": \"f:Hd\", \"ෂ්‍යෙ\": \"fIH\", \"ඡ්‍යෙ\": \"fPH\", \"ළ්‍යෙ\": \"f<H\", \"ණ්‍යෙ\": \"fKH\", \"ච්‍යෙ\": \"fpH\", \"ල්‍යෙ\": \"f,H\", \"න්‍යෙ\": \"fkH\", \"ශ්‍යෙ\": \"fYH\", \"ඛ්‍යෙ\": \"fLH\", \"ක්‍ෂ්යෙ\": \"fÌH\", \"බ්‍යෙ\": \"fnH\", \"ඩ්‍යෙ\": \"fvH\", \"ෆ්‍යෙ\": \"f*H\", \"ග්‍යෙ\": \"f.H\", \"ජ්‍යෙ\": \"fcH\", \"ක්‍යෙ\": \"flH\", \"ම්‍යෙ\": \"fuH\", \"ප්‍යෙ\": \"fmH\", \"ද්‍යෙ\": \"foH\", \"ස්‍යෙ\": \"fiH\", \"ට්‍යෙ\": \"fgH\", \"ව්‍යෙ\": \"fjH\", \"ත්‍යෙ\": \"f;H\", \"භ්‍යෙ\": \"fNH\", \"ධ්‍යෙ\": \"fOH\", \"ථ්‍යෙ\": \"f:H\", \"ෂ්‍රෝ\": \"fI%da\", \"ඝ්‍රෝ\": \"f>%da\", \"ශ්‍රෝ\": \"fY%da\", \"ක්‍ෂ්‍රෝ\": \"fÌ%da\", \"බ්‍රෝ\": \"fn%da\", \"ඩ්‍රෝ\": \"fv%da\", \"ෆ්‍රෝ\": \"f*%da\", \"ග්‍රෝ\": \"f.%da\", \"ක්‍රෝ\": \"fl%da\", \"ප්‍රෝ\": \"fm%da\", \"ද්‍රෝ\": \"føda\", \"ස්‍රෝ\": \"fi%da\", \"ට්‍රෝ\": \"fg%da\", \"ත්‍රෝ\": \"f;%da\", \"ශ්‍රො\": \"fY%d\", \"ඩ්‍රො\": \"fv%d\", \"ෆ්‍රො\": \"f*%d\", \"ග්‍රො\": \"f.%d\", \"ක්‍රො\": \"fl%d\", \"ප්‍රො\": \"fm%d\", \"ද්‍රො\": \"fød\", \"ස්‍රො\": \"fi%d\", \"ට්‍රො\": \"fg%d\", \"ත්‍රො\": \"f;%d\", \"ශ්‍රේ\": \"fYa\", \"බ්‍රේ\": \"fí%\", \"ඩ්‍රේ\": \"fâ%\", \"ෆ්‍රේ\": \"f*a%\", \"ග්‍රේ\": \"f.a%\", \"ක්‍රේ\": \"fla%\", \"ප්‍රේ\": \"fma%\", \"ද්‍රේ\": \"føa\", \"ස්‍රේ\": \"fia%\", \"ත්‍රේ\": \"f;a%\", \"ධ්‍රේ\": \"fè%\", \"ෂ්‍රෙ\": \"fI%\", \"ශ්‍රෙ\": \"fY%\", \"බ්‍රෙ\": \"fn%\", \"ෆ්‍රෙ\": \"f*%\", \"ග්‍රෙ\": \"f.%\", \"ක්‍රෙ\": \"fl%\", \"ප්‍රෙ\": \"fm%\", \"ද්‍රෙ\": \"fø\", \"ස්‍රෙ\": \"fi%\", \"ත්‍රෙ\": \"f;%\", \"භ්‍රෙ\": \"fN%\", \"ධ්‍රෙ\": \"fO%\", \"්‍ය\": \"H\", \"බ්‍රි\": \"ì%\", \"්‍ර\": \"%\", \"ෂෞ\": \"fI!\", \"ඡෞ\": \"fP!\", \"ශෞ\": \"fY!\", \"බෞ\": \"fn!\", \"චෞ\": \"fp!\", \"ඩෞ\": \"fv!\", \"ෆෞ\": \"f*!\", \"ගෞ\": \"f.!\", \"ජෞ\": \"fc!\", \"කෞ\": \"fl!\", \"ලෞ\": \"f,!\", \"මෞ\": \"fu!\", \"නෞ\": \"fk!\", \"පෞ\": \"fm!\", \"දෞ\": \"fo!\", \"රෞ\": \"fr!\", \"සෞ\": \"fi!\", \"ටෞ\": \"fg!\", \"තෞ\": \"f;!\", \"භෞ\": \"fN!\", \"ඤෞ\": \"f[!\", \"ෂෝ\": \"fIda\", \"ඹෝ\": \"fUda\", \"ඡෝ\": \"fPda\", \"ඪෝ\": \"fVda\", \"ඝෝ\": \"f>da\", \"ඛෝ\": \"fLda\", \"ළෝ\": \"f<da\", \"ඟෝ\": \"fÛda\", \"ණෝ\": \"fKda\", \"ඵෝ\": \"fMda\", \"ඨෝ\": \"fGda\", \"ඬෝ\": \"f~da\", \"ශෝ\": \"fYda\", \"ඥෝ\": \"f{da\", \"ඳෝ\": \"f|da\", \"ක්‍ෂෝ\": \"fÌda\", \"බෝ\": \"fnda\", \"චෝ\": \"fpda\", \"ඩෝ\": \"fvda\", \"ෆෝ\": \"f*da\", \"ගෝ\": \"f.da\", \"හෝ\": \"fyda\", \"ජෝ\": \"fcda\", \"කෝ\": \"flda\", \"ලෝ\": \"f,da\", \"මෝ\": \"fuda\", \"නෝ\": \"fkda\", \"පෝ\": \"fmda\", \"දෝ\": \"foda\", \"රෝ\": \"frda\", \"සෝ\": \"fida\", \"ටෝ\": \"fgda\", \"වෝ\": \"fjda\", \"තෝ\": \"f;da\", \"භෝ\": \"fNda\", \"යෝ\": \"fhda\", \"ඤෝ\": \"f[da\", \"ධෝ\": \"fOda\", \"ථෝ\": \"f:da\", \"ෂො\": \"fId\", \"ඹො\": \"fUd\", \"ඡො\": \"fPd\", \"ඪො\": \"fVd\", \"ඝො\": \"f>d\", \"ඛො\": \"fLd\", \"ළො\": \"f<d\", \"ඟො\": \"fÕd\", \"ණො\": \"fKd\", \"ඵො\": \"fMd\", \"ඨො\": \"fGd\", \"ඬො\": \"f~da\", \"ශො\": \"fYd\", \"ඥො\": \"f{d\", \"ඳො\": \"f|d\", \"ක්‍ෂො\": \"fÌd\", \"බො\": \"fnd\", \"චො\": \"fpd\", \"ඩො\": \"fvd\", \"ෆො\": \"f*d\", \"ගො\": \"f.d\", \"හො\": \"fyd\", \"ජො\": \"fcd\", \"කො\": \"fld\", \"ලො\": \"f,d\", \"මො\": \"fud\", \"නො\": \"fkd\", \"පො\": \"fmd\", \"දො\": \"fod\", \"රො\": \"frd\", \"සො\": \"fid\", \"ටො\": \"fgd\", \"වො\": \"fjd\", \"තො\": \"f;d\", \"භො\": \"fNd\", \"යො\": \"fhd\", \"ඤො\": \"f[d\", \"ධො\": \"fOd\", \"ථො\": \"f:d\", \"ෂේ\": \"fIa\", \"ඹේ\": \"fò\", \"ඡේ\": \"fþ\", \"ඪේ\": \"fa\", \"ඝේ\": \"f>a\", \"ඛේ\": \"fÄ\", \"ළේ\": \"f<a\", \"ගේ\": \"f.a\", \"ඟේ\": \"fÕa\", \"ණේ\": \"fKa\", \"ඵේ\": \"fMa\", \"ඨේ\": \"fGa\", \"ඬේ\": \"få\", \"ශේ\": \"fYa\", \"ඥේ\": \"f{a\", \"ඳේ\": \"f|a\", \"ක්‍ෂේ\": \"fÌa\", \"බේ\": \"fí\", \"චේ\": \"fÉ\", \"ඩේ\": \"fâ\", \"ෆේ\": \"f*\", \"ගේ\": \"f.a\", \"හේ\": \"fya\", \"පේ\": \"fma\", \"කේ\": \"fla\", \"ලේ\": \"f,a\", \"මේ\": \"fï\", \"නේ\": \"fka\", \"ජේ\": \"fÊ\", \"දේ\": \"foa\", \"රේ\": \"f¾\", \"සේ\": \"fia\", \"ටේ\": \"fÜ\", \"වේ\": \"fõ\", \"තේ\": \"f;a\", \"භේ\": \"fNa\", \"යේ\": \"fha\", \"ඤේ\": \"f[a\", \"ධේ\": \"fè\", \"ථේ\": \"f:a\", \"ෂෙ\": \"fI\", \"ඹෙ\": \"fU\", \"ඓ\": \"ft\", \"ඡෙ\": \"fP\", \"ඪෙ\": \"fV\", \"ඝෙ\": \"f>\", \"ඛෙ\": \"fn\", \"ළෙ\": \"f<\", \"ඟෙ\": \"fÛ\", \"ණෙ\": \"fK\", \"ඵෙ\": \"fM\", \"ඨෙ\": \"fG\", \"ඬෙ\": \"f~\", \"ශෙ\": \"fY\", \"ඥෙ\": \"f{\", \"ඳෙ\": \"fË\", \"ක්‍ෂෙ\": \"fÌ\", \"බෙ\": \"fn\", \"චෙ\": \"fp\", \"ඩෙ\": \"fv\", \"ෆෙ\": \"f*\", \"ගෙ\": \"f.\", \"හෙ\": \"fy\", \"ජෙ\": \"fc\", \"කෙ\": \"fl\", \"ලෙ\": \"f,\", \"මෙ\": \"fu\", \"නෙ\": \"fk\", \"පෙ\": \"fm\", \"දෙ\": \"fo\", \"රෙ\": \"fr\", \"සෙ\": \"fi\", \"ටෙ\": \"fg\", \"වෙ\": \"fj\", \"තෙ\": \"f;\", \"භෙ\": \"fN\", \"යෙ\": \"fh\", \"ඤෙ\": \"f[\", \"ධෙ\": \"fO\", \"ථෙ\": \"f:\", \"තු\": \";=\", \"ශු\": \"Y=\", \"භු\": \"N=\", \"ගු\": \".=\", \"කු\": \"l=\", \"තූ\": \";+\", \"ශූ\": \"Y+\", \"භූ\": \"N+\", \"ගූ\": \".+\", \"කූ\": \"l+\", \"රු\": \"re\", \"රූ\": \"rE\", \"ආ\": \"wd\", \"ඇ\": \"we\", \"ඈ\": \"wE\", \"ඌ\": \"W!\", \"ඖ\": \"T!\", \"ඒ\": \"ta\", \"ඕ\": \"´\", \"ඳි\": \"¢\", \"ඳී\": \"£\", \"දූ\": \"¥\", \"දී\": \"§\", \"ලූ\": \"Æ\", \"ර්‍ය\": \"©\", \"ඳූ\": \"ª\", \"ර්\": \"¾\", \"ඨි\": \"À\", \"ඨී\": \"Á\", \"ඡී\": \"Â\", \"ඛ්\": \"Ä\", \"ඛි\": \"Å\", \"ලු\": \"¨‍\", \"ඛී\": \"Ç\", \"දි\": \"È\", \"ච්\": \"É\", \"ජ්\": \"Ê\", \"රී\": \"Í\", \"ඪී\": \"Î\", \"ඪී\": \"Ð,\", \"චි\": \"Ñ\", \"ථී\": \"Ò\", \"ථී\": \"Ó\", \"ජී\": \"Ô\", \"චී\": \"Ö\", \"ඞ්\": \"Ù\", \"ඵී\": \"Ú\", \"ට්\": \"Ü\", \"ඵි\": \"Ý\", \"රි\": \"ß\", \"ටී\": \"à\", \"ටි\": \"á\", \"ඩ්\": \"â\", \"ඩී\": \"ã\", \"ඩි\": \"ä\", \"ඬ්\": \"å\", \"ඬි\": \"ç\", \"ධ්\": \"è\", \"ඬී\": \"é\", \"ධි\": \"ê\", \"ධී\": \"ë\", \"ථි\": \"Ó\", \"බි\": \"ì\", \"බ්\": \"í\", \"බී\": \"î\", \"ම්\": \"ï\", \"ජි\": \"ð\", \"මි\": \"ñ\", \"ඹ්\": \"ò\", \"මී\": \"ó\", \"ඹි\": \"ô\", \"ව්\": \"õ\", \"ඹී\": \"ö\", \"ඳු\": \"÷\", \"වී\": \"ù\", \"ඟු\": \"Õ=‍\", \"වි\": \"ú\", \"ඞ්\": \"û\", \"ඞී\": \"ü\", \"ඡි\": \"ý\", \"ඡ්\": \"þ\", \"දු\": \"ÿ\", \"ර්‍ණ\": \"“\", \"ණී\": \"Œ\", \"ණි\": \"‚\", \"ජී\": \"Ô\", \"ඡි\": \"ð\", \"ඩි\": \"ä\", \"ඤු\": \"û\", \"ග\": \".\", \"ළු\": \"¿\", \"ෂ\": \"I\", \"ං\": \"x\", \"ඃ\": \"#\", \"ඹ\": \"U\", \"ඡ\": \"P\", \"ඪ\": \"V\", \"ඝ\": \">\", \"ඊ\": \"B\", \"ඣ\": \"CO\", \"ඛ\": \"L\", \"ළ\": \"<\", \"ඟ\": \"Õ\", \"ණ\": \"K\", \"ඵ\": \"M\", \"ඨ\": \"G\", \"ඃ\": \"#\", \"\\\"\": \"˜‍\", \"\\/\": \"$\", \"\\)\": \"&\", \":\": \"(\", \"-\": \"-\", \"ෆ\": \"*\", \"ල\": \",\", \"-\": \"-\", \"රැ\": \"\", \"ථ\": \":\", \"ත\": \";\", \"ළ\": \"<\", \"ඝ\": \">\", \"රෑ\": \"?\", \"ඊ\": \"B\", \"ක‍\": \"C\", \"‍ෘ\": \"D\", \"ෑ\": \"E\", \"ත‍\": \"F\", \"ඨ\": \"G\", \"්‍ය\": \"H\", \"ෂ\": \"I\", \"ඬ\": \"~\", \"න‍\": \"J\", \"ණ\": \"K\", \"ඛ\": \"L\", \"ඵ\": \"M\", \"භ\": \"N\", \"ධ\": \"O\", \"ඡ\": \"P\", \"ඍ\": \"R\", \"ඔ\": \"T\", \"ඹ\": \"U\", \"ඪ\": \"V\", \"උ\": \"W\", \"ශ\": \"Y\", \"ඤ\": \"[\", \"ඉ\": \"b\", \"ජ\": \"c\", \"ට\": \"g\", \"ය\": \"h\", \"ස\": \"i\", \"ව\": \"j\", \"න\": \"k\", \"ක\": \"l\", \"ප\": \"m\", \"බ\": \"n\", \"ද\": \"o\", \"ච\": \"p\", \"ර\": \"r\", \"එ\": \"t\", \"ම\": \"u\", \"ඩ\": \"v\", \"අ\": \"w\", \"හ\": \"y\", \"ඥ\": \"{\", \"ඳ\": \"|\", \"ක්‍ෂ\": \"Ì\", \"ැ\": \"e\", \"ෑ\": \"E\", \"ෙ\": \"f\", \"ු\": \"q\", \"ි\": \"s\", \"ූ\": \"Q\", \"ී\": \"S\", \"ෘ\": \"D\", \"ෲ\": \"DD\", \"ෟ\": \"!\", \"ා\": \"d\", \"්\": \"a\", \"￦\": '\"', \"‘\": \"z\", \"￫\": \"^\", \"￩\": \"&\", \"ￔ\": \")\", \"ￓ\": \"@\", \"ￒ\": \"`\", \"ￏ\": \"}\", \"ￎ\": \"'\", \"\\ￍ\": \"¤\", \"\\ￌ\": \"•\", \"\\ￊ\": \"›\", \"\\ﾶ\": \"∙\", \"ￕ\": \"]\", \"“\": \"—\", \"”\": \"˜\"\n",
        "    }\n",
        "    for key, value in conversion_dict.items():\n",
        "        unicode_chars = unicode_chars.replace(key, value)\n",
        "    return unicode_chars\n",
        "\n",
        "# Convert text\n",
        "text = \"මගේ නම ඉරේෂ්\"  # Example text\n",
        "converted_text = convert_to_legacy_font(text)\n",
        "converted_text\n",
        "\n",
        "# Now render `converted_text` as before\n"
      ],
      "metadata": {
        "colab": {
          "base_uri": "https://localhost:8080/",
          "height": 35
        },
        "id": "krtwHRfVGapR",
        "outputId": "160c4dea-0e3d-4ec8-b001-633b5036aabb"
      },
      "execution_count": 29,
      "outputs": [
        {
          "output_type": "execute_result",
          "data": {
            "text/plain": [
              "'uf.a ku bf¾Ia'"
            ],
            "application/vnd.google.colaboratory.intrinsic+json": {
              "type": "string"
            }
          },
          "metadata": {},
          "execution_count": 29
        }
      ]
    },
    {
      "cell_type": "code",
      "execution_count": 32,
      "metadata": {
        "colab": {
          "base_uri": "https://localhost:8080/",
          "height": 117
        },
        "id": "xGiUVn7bFvth",
        "outputId": "48845f16-3832-47cc-a0f0-fca4f1b7d8d2"
      },
      "outputs": [
        {
          "output_type": "execute_result",
          "data": {
            "text/plain": [
              "<PIL.Image.Image image mode=RGB size=400x100>"
            ],
            "image/png": "[encoded data removed]"
          },
          "metadata": {},
          "execution_count": 32
        }
      ],
      "source": [
        "from PIL import Image, ImageDraw, ImageFont\n",
        "\n",
        "# Load the Sinhala font\n",
        "font_path = \"2.ttf\"  # Update with your font path\n",
        "font = ImageFont.truetype(font_path, 40)  # Font size is 40\n",
        "\n",
        "# Define the text to render\n",
        "text = convert_to_legacy_font(\"මගේ නම ඉරේෂ්\")\n",
        "\n",
        "# Create an image with a white background\n",
        "image = Image.new('RGB', (400, 100), color = (255, 255, 255))\n",
        "\n",
        "# Initialize ImageDraw\n",
        "draw = ImageDraw.Draw(image)\n",
        "\n",
        "# Draw the text on the image\n",
        "draw.text((10, 10), text, font=font, fill=(0, 0, 0))  # Text color is black\n",
        "\n",
        "# Save the image or display it\n",
        "image.save(\"sinhala_text.png\")\n",
        "image\n"
      ]
    }
  ]
}